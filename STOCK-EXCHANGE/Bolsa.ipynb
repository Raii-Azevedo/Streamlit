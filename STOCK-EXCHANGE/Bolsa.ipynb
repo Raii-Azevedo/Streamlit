{
 "cells": [
  {
   "cell_type": "markdown",
   "id": "7d9db66b",
   "metadata": {},
   "source": [
    "## STOCK EXCHANGE\n",
    "- Code to promote Stock exchange using YFinance"
   ]
  },
  {
   "cell_type": "code",
   "execution_count": null,
   "id": "8125be48",
   "metadata": {},
   "outputs": [],
   "source": [
    "import yfinance as yf\n",
    "import pandas as pd\n",
    "\n",
    "import streamlit as st\n",
    "\n"
   ]
  }
 ],
 "metadata": {
  "language_info": {
   "name": "python"
  }
 },
 "nbformat": 4,
 "nbformat_minor": 5
}
